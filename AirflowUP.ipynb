{
  "nbformat": 4,
  "nbformat_minor": 0,
  "metadata": {
    "colab": {
      "provenance": []
    },
    "kernelspec": {
      "name": "python3",
      "display_name": "Python 3"
    },
    "language_info": {
      "name": "python"
    }
  },
  "cells": [
    {
      "cell_type": "code",
      "source": [
        "!pip install apache-airflow\n",
        "!airflow initdb\n",
        "\n",
        "!wget https://bin.equinox.io/c/4VmDzA7iaHb/ngrok-stable-linux-amd64.zip\n",
        "!unzip ngrok-stable-linux-amd64.zip\n",
        "!pip install pyngrok\n",
        "\n",
        "from pyngrok import ngrok\n",
        "import sys\n",
        "import os\n",
        "import datetime\n",
        "from airflow import DAG\n",
        "from airflow.operators.bash import BashOperator"
      ],
      "metadata": {
        "colab": {
          "base_uri": "https://localhost:8080/"
        },
        "id": "BtVVX7lQkl3q",
        "outputId": "d4f70040-399b-4467-8535-4b96218e588f"
      },
      "execution_count": 1,
      "outputs": [
        {
          "output_type": "stream",
          "name": "stdout",
          "text": [
            "Requirement already satisfied: apache-airflow in /usr/local/lib/python3.10/dist-packages (2.7.2)\n",
            "Requirement already satisfied: alembic<2.0,>=1.6.3 in /usr/local/lib/python3.10/dist-packages (from apache-airflow) (1.12.0)\n",
            "Requirement already satisfied: argcomplete>=1.10 in /usr/local/lib/python3.10/dist-packages (from apache-airflow) (3.1.2)\n",
            "Requirement already satisfied: asgiref in /usr/local/lib/python3.10/dist-packages (from apache-airflow) (3.7.2)\n",
            "Requirement already satisfied: attrs>=22.1.0 in /usr/local/lib/python3.10/dist-packages (from apache-airflow) (23.1.0)\n",
            "Requirement already satisfied: blinker in /usr/lib/python3/dist-packages (from apache-airflow) (1.4)\n",
            "Requirement already satisfied: cattrs>=22.1.0 in /usr/local/lib/python3.10/dist-packages (from apache-airflow) (23.1.2)\n",
            "Requirement already satisfied: colorlog<5.0,>=4.0.2 in /usr/local/lib/python3.10/dist-packages (from apache-airflow) (4.8.0)\n",
            "Requirement already satisfied: configupdater>=3.1.1 in /usr/local/lib/python3.10/dist-packages (from apache-airflow) (3.1.1)\n",
            "Requirement already satisfied: connexion[flask]>=2.10.0 in /usr/local/lib/python3.10/dist-packages (from apache-airflow) (2.14.2)\n",
            "Requirement already satisfied: cron-descriptor>=1.2.24 in /usr/local/lib/python3.10/dist-packages (from apache-airflow) (1.4.0)\n",
            "Requirement already satisfied: croniter>=0.3.17 in /usr/local/lib/python3.10/dist-packages (from apache-airflow) (2.0.1)\n",
            "Requirement already satisfied: cryptography>=0.9.3 in /usr/local/lib/python3.10/dist-packages (from apache-airflow) (41.0.4)\n",
            "Requirement already satisfied: deprecated>=1.2.13 in /usr/local/lib/python3.10/dist-packages (from apache-airflow) (1.2.14)\n",
            "Requirement already satisfied: dill>=0.2.2 in /usr/local/lib/python3.10/dist-packages (from apache-airflow) (0.3.1.1)\n",
            "Requirement already satisfied: flask<2.3,>=2.2 in /usr/local/lib/python3.10/dist-packages (from apache-airflow) (2.2.5)\n",
            "Requirement already satisfied: flask-appbuilder==4.3.6 in /usr/local/lib/python3.10/dist-packages (from apache-airflow) (4.3.6)\n",
            "Requirement already satisfied: flask-caching>=1.5.0 in /usr/local/lib/python3.10/dist-packages (from apache-airflow) (2.1.0)\n",
            "Requirement already satisfied: flask-login>=0.6.2 in /usr/local/lib/python3.10/dist-packages (from apache-airflow) (0.6.2)\n",
            "Requirement already satisfied: flask-session>=0.4.0 in /usr/local/lib/python3.10/dist-packages (from apache-airflow) (0.5.0)\n",
            "Requirement already satisfied: flask-wtf>=0.15 in /usr/local/lib/python3.10/dist-packages (from apache-airflow) (1.2.1)\n",
            "Requirement already satisfied: google-re2>=1.0 in /usr/local/lib/python3.10/dist-packages (from apache-airflow) (1.1)\n",
            "Requirement already satisfied: graphviz>=0.12 in /usr/local/lib/python3.10/dist-packages (from apache-airflow) (0.20.1)\n",
            "Requirement already satisfied: gunicorn>=20.1.0 in /usr/local/lib/python3.10/dist-packages (from apache-airflow) (21.2.0)\n",
            "Requirement already satisfied: httpx in /usr/local/lib/python3.10/dist-packages (from apache-airflow) (0.25.0)\n",
            "Requirement already satisfied: itsdangerous>=2.0 in /usr/local/lib/python3.10/dist-packages (from apache-airflow) (2.1.2)\n",
            "Requirement already satisfied: jinja2>=3.0.0 in /usr/local/lib/python3.10/dist-packages (from apache-airflow) (3.1.2)\n",
            "Requirement already satisfied: jsonschema>=4.18.0 in /usr/local/lib/python3.10/dist-packages (from apache-airflow) (4.19.1)\n",
            "Requirement already satisfied: lazy-object-proxy in /usr/local/lib/python3.10/dist-packages (from apache-airflow) (1.9.0)\n",
            "Requirement already satisfied: linkify-it-py>=2.0.0 in /usr/local/lib/python3.10/dist-packages (from apache-airflow) (2.0.2)\n",
            "Requirement already satisfied: lockfile>=0.12.2 in /usr/local/lib/python3.10/dist-packages (from apache-airflow) (0.12.2)\n",
            "Requirement already satisfied: markdown>=3.0 in /usr/local/lib/python3.10/dist-packages (from apache-airflow) (3.5)\n",
            "Requirement already satisfied: markdown-it-py>=2.1.0 in /usr/local/lib/python3.10/dist-packages (from apache-airflow) (3.0.0)\n",
            "Requirement already satisfied: markupsafe>=1.1.1 in /usr/local/lib/python3.10/dist-packages (from apache-airflow) (2.1.3)\n",
            "Requirement already satisfied: marshmallow-oneofschema>=2.0.1 in /usr/local/lib/python3.10/dist-packages (from apache-airflow) (3.0.1)\n",
            "Requirement already satisfied: mdit-py-plugins>=0.3.0 in /usr/local/lib/python3.10/dist-packages (from apache-airflow) (0.4.0)\n",
            "Requirement already satisfied: opentelemetry-api>=1.15.0 in /usr/local/lib/python3.10/dist-packages (from apache-airflow) (1.20.0)\n",
            "Requirement already satisfied: opentelemetry-exporter-otlp in /usr/local/lib/python3.10/dist-packages (from apache-airflow) (1.20.0)\n",
            "Requirement already satisfied: packaging>=14.0 in /usr/local/lib/python3.10/dist-packages (from apache-airflow) (23.2)\n",
            "Requirement already satisfied: pathspec>=0.9.0 in /usr/local/lib/python3.10/dist-packages (from apache-airflow) (0.11.2)\n",
            "Requirement already satisfied: pendulum>=2.0 in /usr/local/lib/python3.10/dist-packages (from apache-airflow) (2.1.2)\n",
            "Requirement already satisfied: pluggy>=1.0 in /usr/local/lib/python3.10/dist-packages (from apache-airflow) (1.3.0)\n",
            "Requirement already satisfied: psutil>=4.2.0 in /usr/local/lib/python3.10/dist-packages (from apache-airflow) (5.9.5)\n",
            "Requirement already satisfied: pydantic>=1.10.0 in /usr/local/lib/python3.10/dist-packages (from apache-airflow) (1.10.13)\n",
            "Requirement already satisfied: pygments>=2.0.1 in /usr/local/lib/python3.10/dist-packages (from apache-airflow) (2.16.1)\n",
            "Requirement already satisfied: pyjwt>=2.0.0 in /usr/local/lib/python3.10/dist-packages (from apache-airflow) (2.8.0)\n",
            "Requirement already satisfied: python-daemon>=3.0.0 in /usr/local/lib/python3.10/dist-packages (from apache-airflow) (3.0.1)\n",
            "Requirement already satisfied: python-dateutil>=2.3 in /usr/local/lib/python3.10/dist-packages (from apache-airflow) (2.8.2)\n",
            "Requirement already satisfied: python-nvd3>=0.15.0 in /usr/local/lib/python3.10/dist-packages (from apache-airflow) (0.15.0)\n",
            "Requirement already satisfied: python-slugify>=5.0 in /usr/local/lib/python3.10/dist-packages (from apache-airflow) (8.0.1)\n",
            "Requirement already satisfied: rfc3339-validator>=0.1.4 in /usr/local/lib/python3.10/dist-packages (from apache-airflow) (0.1.4)\n",
            "Requirement already satisfied: rich>=12.4.4 in /usr/local/lib/python3.10/dist-packages (from apache-airflow) (13.6.0)\n",
            "Requirement already satisfied: rich-argparse>=1.0.0 in /usr/local/lib/python3.10/dist-packages (from apache-airflow) (1.3.0)\n",
            "Requirement already satisfied: setproctitle>=1.1.8 in /usr/local/lib/python3.10/dist-packages (from apache-airflow) (1.3.3)\n",
            "Requirement already satisfied: sqlalchemy<2.0,>=1.4.28 in /usr/local/lib/python3.10/dist-packages (from apache-airflow) (1.4.49)\n",
            "Requirement already satisfied: sqlalchemy-jsonfield>=1.0 in /usr/local/lib/python3.10/dist-packages (from apache-airflow) (1.0.1.post0)\n",
            "Requirement already satisfied: tabulate>=0.7.5 in /usr/local/lib/python3.10/dist-packages (from apache-airflow) (0.9.0)\n",
            "Requirement already satisfied: tenacity!=8.2.0,>=6.2.0 in /usr/local/lib/python3.10/dist-packages (from apache-airflow) (8.2.3)\n",
            "Requirement already satisfied: termcolor>=1.1.0 in /usr/local/lib/python3.10/dist-packages (from apache-airflow) (2.3.0)\n",
            "Requirement already satisfied: typing-extensions>=4.0.0 in /usr/local/lib/python3.10/dist-packages (from apache-airflow) (4.8.0)\n",
            "Requirement already satisfied: unicodecsv>=0.14.1 in /usr/local/lib/python3.10/dist-packages (from apache-airflow) (0.14.1)\n",
            "Requirement already satisfied: werkzeug>=2.0 in /usr/local/lib/python3.10/dist-packages (from apache-airflow) (2.2.3)\n",
            "Requirement already satisfied: apache-airflow-providers-common-sql in /usr/local/lib/python3.10/dist-packages (from apache-airflow) (1.7.2)\n",
            "Requirement already satisfied: apache-airflow-providers-ftp in /usr/local/lib/python3.10/dist-packages (from apache-airflow) (3.5.2)\n",
            "Requirement already satisfied: apache-airflow-providers-http in /usr/local/lib/python3.10/dist-packages (from apache-airflow) (4.5.2)\n",
            "Requirement already satisfied: apache-airflow-providers-imap in /usr/local/lib/python3.10/dist-packages (from apache-airflow) (3.3.2)\n",
            "Requirement already satisfied: apache-airflow-providers-sqlite in /usr/local/lib/python3.10/dist-packages (from apache-airflow) (3.4.3)\n",
            "Requirement already satisfied: apispec[yaml]<7,>=6.0.0 in /usr/local/lib/python3.10/dist-packages (from flask-appbuilder==4.3.6->apache-airflow) (6.3.0)\n",
            "Requirement already satisfied: colorama<1,>=0.3.9 in /usr/local/lib/python3.10/dist-packages (from flask-appbuilder==4.3.6->apache-airflow) (0.4.6)\n",
            "Requirement already satisfied: click<9,>=8 in /usr/local/lib/python3.10/dist-packages (from flask-appbuilder==4.3.6->apache-airflow) (8.1.7)\n",
            "Requirement already satisfied: email-validator<2,>=1.0.5 in /usr/local/lib/python3.10/dist-packages (from flask-appbuilder==4.3.6->apache-airflow) (1.3.1)\n",
            "Requirement already satisfied: Flask-Babel<3,>=1 in /usr/local/lib/python3.10/dist-packages (from flask-appbuilder==4.3.6->apache-airflow) (2.0.0)\n",
            "Requirement already satisfied: Flask-Limiter<4,>3 in /usr/local/lib/python3.10/dist-packages (from flask-appbuilder==4.3.6->apache-airflow) (3.5.0)\n",
            "Requirement already satisfied: Flask-SQLAlchemy<3,>=2.4 in /usr/local/lib/python3.10/dist-packages (from flask-appbuilder==4.3.6->apache-airflow) (2.5.1)\n",
            "Requirement already satisfied: Flask-JWT-Extended<5.0.0,>=4.0.0 in /usr/local/lib/python3.10/dist-packages (from flask-appbuilder==4.3.6->apache-airflow) (4.5.3)\n",
            "Requirement already satisfied: marshmallow<4,>=3.18.0 in /usr/local/lib/python3.10/dist-packages (from flask-appbuilder==4.3.6->apache-airflow) (3.20.1)\n",
            "Requirement already satisfied: marshmallow-sqlalchemy<0.27.0,>=0.22.0 in /usr/local/lib/python3.10/dist-packages (from flask-appbuilder==4.3.6->apache-airflow) (0.26.1)\n",
            "Requirement already satisfied: prison<1.0.0,>=0.2.1 in /usr/local/lib/python3.10/dist-packages (from flask-appbuilder==4.3.6->apache-airflow) (0.2.1)\n",
            "Requirement already satisfied: sqlalchemy-utils<1,>=0.32.21 in /usr/local/lib/python3.10/dist-packages (from flask-appbuilder==4.3.6->apache-airflow) (0.41.1)\n",
            "Requirement already satisfied: WTForms<4 in /usr/local/lib/python3.10/dist-packages (from flask-appbuilder==4.3.6->apache-airflow) (3.0.1)\n",
            "Requirement already satisfied: Mako in /usr/local/lib/python3.10/dist-packages (from alembic<2.0,>=1.6.3->apache-airflow) (1.2.4)\n",
            "Requirement already satisfied: exceptiongroup in /usr/local/lib/python3.10/dist-packages (from cattrs>=22.1.0->apache-airflow) (1.1.3)\n",
            "Requirement already satisfied: clickclick<21,>=1.2 in /usr/local/lib/python3.10/dist-packages (from connexion[flask]>=2.10.0->apache-airflow) (20.10.2)\n",
            "Requirement already satisfied: PyYAML<7,>=5.1 in /usr/local/lib/python3.10/dist-packages (from connexion[flask]>=2.10.0->apache-airflow) (6.0.1)\n",
            "Requirement already satisfied: requests<3,>=2.9.1 in /usr/local/lib/python3.10/dist-packages (from connexion[flask]>=2.10.0->apache-airflow) (2.31.0)\n",
            "Requirement already satisfied: inflection<0.6,>=0.3.1 in /usr/local/lib/python3.10/dist-packages (from connexion[flask]>=2.10.0->apache-airflow) (0.5.1)\n",
            "Requirement already satisfied: pytz>2021.1 in /usr/local/lib/python3.10/dist-packages (from croniter>=0.3.17->apache-airflow) (2023.3.post1)\n",
            "Requirement already satisfied: cffi>=1.12 in /usr/local/lib/python3.10/dist-packages (from cryptography>=0.9.3->apache-airflow) (1.16.0)\n",
            "Requirement already satisfied: wrapt<2,>=1.10 in /usr/local/lib/python3.10/dist-packages (from deprecated>=1.2.13->apache-airflow) (1.15.0)\n",
            "Requirement already satisfied: cachelib<0.10.0,>=0.9.0 in /usr/local/lib/python3.10/dist-packages (from flask-caching>=1.5.0->apache-airflow) (0.9.0)\n",
            "Requirement already satisfied: jsonschema-specifications>=2023.03.6 in /usr/local/lib/python3.10/dist-packages (from jsonschema>=4.18.0->apache-airflow) (2023.7.1)\n",
            "Requirement already satisfied: referencing>=0.28.4 in /usr/local/lib/python3.10/dist-packages (from jsonschema>=4.18.0->apache-airflow) (0.30.2)\n",
            "Requirement already satisfied: rpds-py>=0.7.1 in /usr/local/lib/python3.10/dist-packages (from jsonschema>=4.18.0->apache-airflow) (0.10.4)\n",
            "Requirement already satisfied: uc-micro-py in /usr/local/lib/python3.10/dist-packages (from linkify-it-py>=2.0.0->apache-airflow) (1.0.2)\n",
            "Requirement already satisfied: mdurl~=0.1 in /usr/local/lib/python3.10/dist-packages (from markdown-it-py>=2.1.0->apache-airflow) (0.1.2)\n",
            "Requirement already satisfied: importlib-metadata<7.0,>=6.0 in /usr/local/lib/python3.10/dist-packages (from opentelemetry-api>=1.15.0->apache-airflow) (6.8.0)\n",
            "Requirement already satisfied: pytzdata>=2020.1 in /usr/local/lib/python3.10/dist-packages (from pendulum>=2.0->apache-airflow) (2020.1)\n",
            "Requirement already satisfied: docutils in /usr/local/lib/python3.10/dist-packages (from python-daemon>=3.0.0->apache-airflow) (0.20.1)\n",
            "Requirement already satisfied: setuptools>=62.4.0 in /usr/local/lib/python3.10/dist-packages (from python-daemon>=3.0.0->apache-airflow) (67.7.2)\n",
            "Requirement already satisfied: six>=1.5 in /usr/local/lib/python3.10/dist-packages (from python-dateutil>=2.3->apache-airflow) (1.16.0)\n",
            "Requirement already satisfied: text-unidecode>=1.3 in /usr/local/lib/python3.10/dist-packages (from python-slugify>=5.0->apache-airflow) (1.3)\n",
            "Requirement already satisfied: greenlet!=0.4.17 in /usr/local/lib/python3.10/dist-packages (from sqlalchemy<2.0,>=1.4.28->apache-airflow) (3.0.0)\n",
            "Requirement already satisfied: sqlparse>=0.4.2 in /usr/local/lib/python3.10/dist-packages (from apache-airflow-providers-common-sql->apache-airflow) (0.4.4)\n",
            "Requirement already satisfied: aiohttp in /usr/local/lib/python3.10/dist-packages (from apache-airflow-providers-http->apache-airflow) (3.8.6)\n",
            "Requirement already satisfied: requests-toolbelt in /usr/local/lib/python3.10/dist-packages (from apache-airflow-providers-http->apache-airflow) (1.0.0)\n",
            "Requirement already satisfied: certifi in /usr/local/lib/python3.10/dist-packages (from httpx->apache-airflow) (2023.7.22)\n",
            "Requirement already satisfied: httpcore<0.19.0,>=0.18.0 in /usr/local/lib/python3.10/dist-packages (from httpx->apache-airflow) (0.18.0)\n",
            "Requirement already satisfied: idna in /usr/local/lib/python3.10/dist-packages (from httpx->apache-airflow) (3.4)\n",
            "Requirement already satisfied: sniffio in /usr/local/lib/python3.10/dist-packages (from httpx->apache-airflow) (1.3.0)\n",
            "Requirement already satisfied: opentelemetry-exporter-otlp-proto-grpc==1.20.0 in /usr/local/lib/python3.10/dist-packages (from opentelemetry-exporter-otlp->apache-airflow) (1.20.0)\n",
            "Requirement already satisfied: opentelemetry-exporter-otlp-proto-http==1.20.0 in /usr/local/lib/python3.10/dist-packages (from opentelemetry-exporter-otlp->apache-airflow) (1.20.0)\n",
            "Requirement already satisfied: backoff<3.0.0,>=1.10.0 in /usr/local/lib/python3.10/dist-packages (from opentelemetry-exporter-otlp-proto-grpc==1.20.0->opentelemetry-exporter-otlp->apache-airflow) (2.2.1)\n",
            "Requirement already satisfied: googleapis-common-protos~=1.52 in /usr/local/lib/python3.10/dist-packages (from opentelemetry-exporter-otlp-proto-grpc==1.20.0->opentelemetry-exporter-otlp->apache-airflow) (1.60.0)\n",
            "Requirement already satisfied: grpcio<2.0.0,>=1.0.0 in /usr/local/lib/python3.10/dist-packages (from opentelemetry-exporter-otlp-proto-grpc==1.20.0->opentelemetry-exporter-otlp->apache-airflow) (1.59.0)\n",
            "Requirement already satisfied: opentelemetry-exporter-otlp-proto-common==1.20.0 in /usr/local/lib/python3.10/dist-packages (from opentelemetry-exporter-otlp-proto-grpc==1.20.0->opentelemetry-exporter-otlp->apache-airflow) (1.20.0)\n",
            "Requirement already satisfied: opentelemetry-proto==1.20.0 in /usr/local/lib/python3.10/dist-packages (from opentelemetry-exporter-otlp-proto-grpc==1.20.0->opentelemetry-exporter-otlp->apache-airflow) (1.20.0)\n",
            "Requirement already satisfied: opentelemetry-sdk~=1.20.0 in /usr/local/lib/python3.10/dist-packages (from opentelemetry-exporter-otlp-proto-grpc==1.20.0->opentelemetry-exporter-otlp->apache-airflow) (1.20.0)\n",
            "Requirement already satisfied: protobuf<5.0,>=3.19 in /usr/local/lib/python3.10/dist-packages (from opentelemetry-proto==1.20.0->opentelemetry-exporter-otlp-proto-grpc==1.20.0->opentelemetry-exporter-otlp->apache-airflow) (4.21.12)\n",
            "Requirement already satisfied: pycparser in /usr/local/lib/python3.10/dist-packages (from cffi>=1.12->cryptography>=0.9.3->apache-airflow) (2.21)\n",
            "Requirement already satisfied: dnspython>=1.15.0 in /usr/local/lib/python3.10/dist-packages (from email-validator<2,>=1.0.5->flask-appbuilder==4.3.6->apache-airflow) (2.4.2)\n",
            "Requirement already satisfied: Babel>=2.3 in /usr/local/lib/python3.10/dist-packages (from Flask-Babel<3,>=1->flask-appbuilder==4.3.6->apache-airflow) (2.13.0)\n",
            "Requirement already satisfied: limits>=2.8 in /usr/local/lib/python3.10/dist-packages (from Flask-Limiter<4,>3->flask-appbuilder==4.3.6->apache-airflow) (3.6.0)\n",
            "Requirement already satisfied: ordered-set<5,>4 in /usr/local/lib/python3.10/dist-packages (from Flask-Limiter<4,>3->flask-appbuilder==4.3.6->apache-airflow) (4.1.0)\n",
            "Requirement already satisfied: anyio<5.0,>=3.0 in /usr/local/lib/python3.10/dist-packages (from httpcore<0.19.0,>=0.18.0->httpx->apache-airflow) (3.7.1)\n",
            "Requirement already satisfied: h11<0.15,>=0.13 in /usr/local/lib/python3.10/dist-packages (from httpcore<0.19.0,>=0.18.0->httpx->apache-airflow) (0.14.0)\n",
            "Requirement already satisfied: zipp>=0.5 in /usr/local/lib/python3.10/dist-packages (from importlib-metadata<7.0,>=6.0->opentelemetry-api>=1.15.0->apache-airflow) (3.17.0)\n",
            "Requirement already satisfied: charset-normalizer<4,>=2 in /usr/local/lib/python3.10/dist-packages (from requests<3,>=2.9.1->connexion[flask]>=2.10.0->apache-airflow) (3.3.0)\n",
            "Requirement already satisfied: urllib3<3,>=1.21.1 in /usr/local/lib/python3.10/dist-packages (from requests<3,>=2.9.1->connexion[flask]>=2.10.0->apache-airflow) (1.26.17)\n",
            "Requirement already satisfied: multidict<7.0,>=4.5 in /usr/local/lib/python3.10/dist-packages (from aiohttp->apache-airflow-providers-http->apache-airflow) (6.0.4)\n",
            "Requirement already satisfied: async-timeout<5.0,>=4.0.0a3 in /usr/local/lib/python3.10/dist-packages (from aiohttp->apache-airflow-providers-http->apache-airflow) (4.0.3)\n",
            "Requirement already satisfied: yarl<2.0,>=1.0 in /usr/local/lib/python3.10/dist-packages (from aiohttp->apache-airflow-providers-http->apache-airflow) (1.9.2)\n",
            "Requirement already satisfied: frozenlist>=1.1.1 in /usr/local/lib/python3.10/dist-packages (from aiohttp->apache-airflow-providers-http->apache-airflow) (1.4.0)\n",
            "Requirement already satisfied: aiosignal>=1.1.2 in /usr/local/lib/python3.10/dist-packages (from aiohttp->apache-airflow-providers-http->apache-airflow) (1.3.1)\n",
            "Requirement already satisfied: importlib-resources>=1.3 in /usr/local/lib/python3.10/dist-packages (from limits>=2.8->Flask-Limiter<4,>3->flask-appbuilder==4.3.6->apache-airflow) (6.1.0)\n",
            "Requirement already satisfied: opentelemetry-semantic-conventions==0.41b0 in /usr/local/lib/python3.10/dist-packages (from opentelemetry-sdk~=1.20.0->opentelemetry-exporter-otlp-proto-grpc==1.20.0->opentelemetry-exporter-otlp->apache-airflow) (0.41b0)\n",
            "\u001b[91mUsage:\u001b[0m \u001b[37mairflow\u001b[0m [\u001b[36m-h\u001b[0m] \u001b[36mGROUP_OR_COMMAND ...\u001b[0m\n",
            "\n",
            "\u001b[91mPositional Arguments:\u001b[0m\n",
            "  \u001b[36mGROUP_OR_COMMAND\u001b[0m\n",
            "    \n",
            "\u001b[36m    Groups\u001b[0m\n",
            "      \u001b[36mconfig\u001b[0m         \u001b[39mView configuration\u001b[0m\n",
            "      \u001b[36mconnections\u001b[0m    \u001b[39mManage connections\u001b[0m\n",
            "      \u001b[36mdags\u001b[0m           \u001b[39mManage DAGs\u001b[0m\n",
            "      \u001b[36mdb\u001b[0m             \u001b[39mDatabase operations\u001b[0m\n",
            "      \u001b[36mjobs\u001b[0m           \u001b[39mManage jobs\u001b[0m\n",
            "      \u001b[36mpools\u001b[0m          \u001b[39mManage pools\u001b[0m\n",
            "      \u001b[36mproviders\u001b[0m      \u001b[39mDisplay providers\u001b[0m\n",
            "      \u001b[36mroles\u001b[0m          \u001b[39mManage roles\u001b[0m\n",
            "      \u001b[36mtasks\u001b[0m          \u001b[39mManage tasks\u001b[0m\n",
            "      \u001b[36musers\u001b[0m          \u001b[39mManage users\u001b[0m\n",
            "      \u001b[36mvariables\u001b[0m      \u001b[39mManage variables\u001b[0m\n",
            "    \n",
            "\u001b[36m    Commands:\u001b[0m\n",
            "      \u001b[36mcheat-sheet\u001b[0m    \u001b[39mDisplay cheat sheet\u001b[0m\n",
            "      \u001b[36mdag-processor\u001b[0m  \u001b[39mStart a standalone Dag Processor instance\u001b[0m\n",
            "      \u001b[36minfo\u001b[0m           \u001b[39mShow information about current Airflow and environment\u001b[0m\n",
            "      \u001b[36mkerberos\u001b[0m       \u001b[39mStart a kerberos ticket renewer\u001b[0m\n",
            "      \u001b[36mplugins\u001b[0m        \u001b[39mDump information about loaded plugins\u001b[0m\n",
            "      \u001b[36mrotate-fernet-key\u001b[0m\n",
            "                     \u001b[39mRotate encrypted connection credentials and variables\u001b[0m\n",
            "      \u001b[36mscheduler\u001b[0m      \u001b[39mStart a scheduler instance\u001b[0m\n",
            "      \u001b[36mstandalone\u001b[0m     \u001b[39mRun an all-in-one copy of Airflow\u001b[0m\n",
            "      \u001b[36msync-perm\u001b[0m      \u001b[39mUpdate permissions for existing roles and optionally DAGs\u001b[0m\n",
            "      \u001b[36mtriggerer\u001b[0m      \u001b[39mStart a triggerer instance\u001b[0m\n",
            "      \u001b[36mversion\u001b[0m        \u001b[39mShow the version\u001b[0m\n",
            "      \u001b[36mwebserver\u001b[0m      \u001b[39mStart a Airflow webserver instance\u001b[0m\n",
            "\n",
            "\u001b[91mOptions:\u001b[0m\n",
            "  \u001b[36m-h\u001b[0m, \u001b[36m--help\u001b[0m         \u001b[39mshow this help message and exit\u001b[0m\n",
            "\n",
            "airflow command error: argument GROUP_OR_COMMAND: `airflow initdb` command, has been removed, please use `airflow db init`, see help above.\n",
            "--2023-10-15 18:24:47--  https://bin.equinox.io/c/4VmDzA7iaHb/ngrok-stable-linux-amd64.zip\n",
            "Resolving bin.equinox.io (bin.equinox.io)... 52.202.168.65, 18.205.222.128, 54.161.241.46, ...\n",
            "Connecting to bin.equinox.io (bin.equinox.io)|52.202.168.65|:443... connected.\n",
            "HTTP request sent, awaiting response... 200 OK\n",
            "Length: 13921656 (13M) [application/octet-stream]\n",
            "Saving to: ‘ngrok-stable-linux-amd64.zip.9’\n",
            "\n",
            "ngrok-stable-linux- 100%[===================>]  13.28M  17.7MB/s    in 0.7s    \n",
            "\n",
            "2023-10-15 18:24:48 (17.7 MB/s) - ‘ngrok-stable-linux-amd64.zip.9’ saved [13921656/13921656]\n",
            "\n",
            "Archive:  ngrok-stable-linux-amd64.zip\n",
            "replace ngrok? [y]es, [n]o, [A]ll, [N]one, [r]ename: y\n",
            "  inflating: ngrok                   \n",
            "Requirement already satisfied: pyngrok in /usr/local/lib/python3.10/dist-packages (7.0.0)\n",
            "Requirement already satisfied: PyYAML in /usr/local/lib/python3.10/dist-packages (from pyngrok) (6.0.1)\n"
          ]
        }
      ]
    },
    {
      "cell_type": "code",
      "source": [
        "auth_token = \"сюда_необходимо_ввести_токен_ngrok\"\n",
        "os.system(f\"ngrok authtoken {auth_token}\")\n",
        "public_url = ngrok.connect(addr=\"7777\", proto=\"http\")\n",
        "print(\"Адрес Airflow GUI:\", public_url)"
      ],
      "metadata": {
        "colab": {
          "base_uri": "https://localhost:8080/"
        },
        "id": "v9seu8gNokuU",
        "outputId": "332bdad7-173d-444c-a973-f41d47cc0f89"
      },
      "execution_count": 2,
      "outputs": [
        {
          "output_type": "stream",
          "name": "stdout",
          "text": [
            "[\u001b[34m2023-10-15T18:25:04.404+0000\u001b[0m] {\u001b[34mngrok.py:\u001b[0m276} INFO\u001b[0m - Opening tunnel named: http-7777-d04a29ef-b22d-4e9c-92c4-ed92a4b977e1\u001b[0m\n",
            "[\u001b[34m2023-10-15T18:25:04.431+0000\u001b[0m] {\u001b[34mprocess.py:\u001b[0m99} INFO\u001b[0m - t=2023-10-15T18:25:04+0000 lvl=info msg=\"no configuration paths supplied\"\u001b[0m\n",
            "[\u001b[34m2023-10-15T18:25:04.438+0000\u001b[0m] {\u001b[34mprocess.py:\u001b[0m99} WARNING\u001b[0m - t=2023-10-15T18:25:04+0000 lvl=warn msg=\"ngrok config file found at legacy location, move to XDG location\" xdg_path=/root/.config/ngrok/ngrok.yml legacy_path=/root/.ngrok2/ngrok.yml\u001b[0m\n",
            "[\u001b[34m2023-10-15T18:25:04.441+0000\u001b[0m] {\u001b[34mprocess.py:\u001b[0m99} INFO\u001b[0m - t=2023-10-15T18:25:04+0000 lvl=info msg=\"using configuration at default config path\" path=/root/.ngrok2/ngrok.yml\u001b[0m\n",
            "[\u001b[34m2023-10-15T18:25:04.446+0000\u001b[0m] {\u001b[34mprocess.py:\u001b[0m99} INFO\u001b[0m - t=2023-10-15T18:25:04+0000 lvl=info msg=\"open config file\" path=/root/.ngrok2/ngrok.yml err=nil\u001b[0m\n",
            "[\u001b[34m2023-10-15T18:25:04.451+0000\u001b[0m] {\u001b[34mprocess.py:\u001b[0m99} INFO\u001b[0m - t=2023-10-15T18:25:04+0000 lvl=info msg=\"starting web service\" obj=web addr=127.0.0.1:4040 allow_hosts=[]\u001b[0m\n",
            "[\u001b[34m2023-10-15T18:25:04.787+0000\u001b[0m] {\u001b[34mprocess.py:\u001b[0m99} INFO\u001b[0m - t=2023-10-15T18:25:04+0000 lvl=info msg=\"client session established\" obj=tunnels.session obj=csess id=a13a4904729c\u001b[0m\n",
            "[\u001b[34m2023-10-15T18:25:04.790+0000\u001b[0m] {\u001b[34mprocess.py:\u001b[0m99} INFO\u001b[0m - t=2023-10-15T18:25:04+0000 lvl=info msg=\"tunnel session started\" obj=tunnels.session\u001b[0m\n",
            "[\u001b[34m2023-10-15T18:25:04.799+0000\u001b[0m] {\u001b[34mprocess.py:\u001b[0m99} INFO\u001b[0m - t=2023-10-15T18:25:04+0000 lvl=info msg=start pg=/api/tunnels id=5ea07c16294650b5\u001b[0m\n",
            "[\u001b[34m2023-10-15T18:25:04.806+0000\u001b[0m] {\u001b[34mprocess.py:\u001b[0m99} INFO\u001b[0m - t=2023-10-15T18:25:04+0000 lvl=info msg=end pg=/api/tunnels id=5ea07c16294650b5 status=200 dur=521.05µs\u001b[0m\n",
            "[\u001b[34m2023-10-15T18:25:04.808+0000\u001b[0m] {\u001b[34mprocess.py:\u001b[0m99} INFO\u001b[0m - t=2023-10-15T18:25:04+0000 lvl=info msg=start pg=/api/tunnels id=baff79599f99f43f\u001b[0m\n",
            "[\u001b[34m2023-10-15T18:25:04.814+0000\u001b[0m] {\u001b[34mprocess.py:\u001b[0m99} INFO\u001b[0m - t=2023-10-15T18:25:04+0000 lvl=info msg=end pg=/api/tunnels id=baff79599f99f43f status=200 dur=118.851µs\u001b[0m\n",
            "[\u001b[34m2023-10-15T18:25:04.820+0000\u001b[0m] {\u001b[34mprocess.py:\u001b[0m99} INFO\u001b[0m - t=2023-10-15T18:25:04+0000 lvl=info msg=start pg=/api/tunnels id=810202725ed5c7a8\u001b[0m\n",
            "[\u001b[34m2023-10-15T18:25:04.882+0000\u001b[0m] {\u001b[34mprocess.py:\u001b[0m99} INFO\u001b[0m - t=2023-10-15T18:25:04+0000 lvl=info msg=\"started tunnel\" obj=tunnels name=http-7777-d04a29ef-b22d-4e9c-92c4-ed92a4b977e1 addr=http://localhost:7777 url=https://72ae-35-203-153-76.ngrok-free.app\u001b[0m\n",
            "Адрес Airflow GUI: NgrokTunnel: \"https://72ae-35-203-153-76.ngrok-free.app\" -> \"http://localhost:7777\"\n",
            "[\u001b[34m2023-10-15T18:25:04.893+0000\u001b[0m] {\u001b[34mprocess.py:\u001b[0m99} INFO\u001b[0m - t=2023-10-15T18:25:04+0000 lvl=info msg=end pg=/api/tunnels id=810202725ed5c7a8 status=201 dur=77.826012ms\u001b[0m\n"
          ]
        }
      ]
    },
    {
      "cell_type": "code",
      "source": [
        "!pip install Flask-SQLAlchemy==2.5.1"
      ],
      "metadata": {
        "colab": {
          "base_uri": "https://localhost:8080/"
        },
        "id": "uJjJTlcptIK4",
        "outputId": "b3e8d239-66a3-42fe-8cdd-5e84946b9a65"
      },
      "execution_count": 3,
      "outputs": [
        {
          "output_type": "stream",
          "name": "stdout",
          "text": [
            "Requirement already satisfied: Flask-SQLAlchemy==2.5.1 in /usr/local/lib/python3.10/dist-packages (2.5.1)\n",
            "Requirement already satisfied: Flask>=0.10 in /usr/local/lib/python3.10/dist-packages (from Flask-SQLAlchemy==2.5.1) (2.2.5)\n",
            "Requirement already satisfied: SQLAlchemy>=0.8.0 in /usr/local/lib/python3.10/dist-packages (from Flask-SQLAlchemy==2.5.1) (1.4.49)\n",
            "Requirement already satisfied: Werkzeug>=2.2.2 in /usr/local/lib/python3.10/dist-packages (from Flask>=0.10->Flask-SQLAlchemy==2.5.1) (2.2.3)\n",
            "Requirement already satisfied: Jinja2>=3.0 in /usr/local/lib/python3.10/dist-packages (from Flask>=0.10->Flask-SQLAlchemy==2.5.1) (3.1.2)\n",
            "Requirement already satisfied: itsdangerous>=2.0 in /usr/local/lib/python3.10/dist-packages (from Flask>=0.10->Flask-SQLAlchemy==2.5.1) (2.1.2)\n",
            "Requirement already satisfied: click>=8.0 in /usr/local/lib/python3.10/dist-packages (from Flask>=0.10->Flask-SQLAlchemy==2.5.1) (8.1.7)\n",
            "Requirement already satisfied: greenlet!=0.4.17 in /usr/local/lib/python3.10/dist-packages (from SQLAlchemy>=0.8.0->Flask-SQLAlchemy==2.5.1) (3.0.0)\n",
            "Requirement already satisfied: MarkupSafe>=2.0 in /usr/local/lib/python3.10/dist-packages (from Jinja2>=3.0->Flask>=0.10->Flask-SQLAlchemy==2.5.1) (2.1.3)\n"
          ]
        }
      ]
    },
    {
      "cell_type": "code",
      "source": [
        "!airflow db init\n",
        "!airflow upgradedb\n",
        "\n",
        "!airflow users create --username login --email example@mail.ru, --firstname Mikhail, --lastname Markin --role Admin --password password"
      ],
      "metadata": {
        "colab": {
          "base_uri": "https://localhost:8080/"
        },
        "id": "3ULhBIyRc07X",
        "outputId": "7e1396ae-b3a3-4340-d714-22cc63d10efa"
      },
      "execution_count": 4,
      "outputs": [
        {
          "output_type": "stream",
          "name": "stdout",
          "text": [
            "DB: sqlite:////root/airflow/airflow.db\n",
            "[\u001b[34m2023-10-15T18:25:24.727+0000\u001b[0m] {\u001b[34mmigration.py:\u001b[0m213} INFO\u001b[0m - Context impl \u001b[01mSQLiteImpl\u001b[22m.\u001b[0m\n",
            "[\u001b[34m2023-10-15T18:25:24.728+0000\u001b[0m] {\u001b[34mmigration.py:\u001b[0m216} INFO\u001b[0m - Will assume \u001b[01mnon-transactional\u001b[22m DDL.\u001b[0m\n",
            "[\u001b[34m2023-10-15T18:25:25.351+0000\u001b[0m] {\u001b[34mmigration.py:\u001b[0m213} INFO\u001b[0m - Context impl \u001b[01mSQLiteImpl\u001b[22m.\u001b[0m\n",
            "[\u001b[34m2023-10-15T18:25:25.351+0000\u001b[0m] {\u001b[34mmigration.py:\u001b[0m216} INFO\u001b[0m - Will assume \u001b[01mnon-transactional\u001b[22m DDL.\u001b[0m\n",
            "[\u001b[34m2023-10-15T18:25:25.354+0000\u001b[0m] {\u001b[34mdb.py:\u001b[0m1620} INFO\u001b[0m - Creating tables\u001b[0m\n",
            "INFO  [alembic.runtime.migration] Context impl SQLiteImpl.\n",
            "INFO  [alembic.runtime.migration] Will assume non-transactional DDL.\n",
            "WARNI [unusual_prefix_13903d1433e73a905598409829be4c61c9cdea5f_example_kubernetes_executor] The example_kubernetes_executor example DAG requires the kubernetes provider. Please install it with: pip install apache-airflow[cncf.kubernetes]\n",
            "WARNI [unusual_prefix_e1e1e746b8b87627f53519aca03f086299788fc2_tutorial_taskflow_api_virtualenv] The tutorial_taskflow_api_virtualenv example DAG requires virtualenv, please install it.\n",
            "WARNI [unusual_prefix_de310399792f7c66d0607289cf7f70223c00f7ca_example_python_operator] The virtalenv_python example task requires virtualenv, please install it.\n",
            "WARNI [unusual_prefix_4c1c0063a36d033a56d4343efc723c3a45c1bd59_example_local_kubernetes_executor] Could not import DAGs in example_local_kubernetes_executor.py\n",
            "Traceback (most recent call last):\n",
            "  File \"/usr/local/lib/python3.10/dist-packages/airflow/example_dags/example_local_kubernetes_executor.py\", line 37, in <module>\n",
            "    from kubernetes.client import models as k8s\n",
            "ModuleNotFoundError: No module named 'kubernetes'\n",
            "WARNI [unusual_prefix_4c1c0063a36d033a56d4343efc723c3a45c1bd59_example_local_kubernetes_executor] Install Kubernetes dependencies with: pip install apache-airflow[cncf.kubernetes]\n",
            "WARNI [airflow.models.crypto] empty cryptography key - values will not be stored encrypted.\n",
            "Initialization done\n",
            "\u001b[91mUsage:\u001b[0m \u001b[37mairflow\u001b[0m [\u001b[36m-h\u001b[0m] \u001b[36mGROUP_OR_COMMAND ...\u001b[0m\n",
            "\n",
            "\u001b[91mPositional Arguments:\u001b[0m\n",
            "  \u001b[36mGROUP_OR_COMMAND\u001b[0m\n",
            "    \n",
            "\u001b[36m    Groups\u001b[0m\n",
            "      \u001b[36mconfig\u001b[0m         \u001b[39mView configuration\u001b[0m\n",
            "      \u001b[36mconnections\u001b[0m    \u001b[39mManage connections\u001b[0m\n",
            "      \u001b[36mdags\u001b[0m           \u001b[39mManage DAGs\u001b[0m\n",
            "      \u001b[36mdb\u001b[0m             \u001b[39mDatabase operations\u001b[0m\n",
            "      \u001b[36mjobs\u001b[0m           \u001b[39mManage jobs\u001b[0m\n",
            "      \u001b[36mpools\u001b[0m          \u001b[39mManage pools\u001b[0m\n",
            "      \u001b[36mproviders\u001b[0m      \u001b[39mDisplay providers\u001b[0m\n",
            "      \u001b[36mroles\u001b[0m          \u001b[39mManage roles\u001b[0m\n",
            "      \u001b[36mtasks\u001b[0m          \u001b[39mManage tasks\u001b[0m\n",
            "      \u001b[36musers\u001b[0m          \u001b[39mManage users\u001b[0m\n",
            "      \u001b[36mvariables\u001b[0m      \u001b[39mManage variables\u001b[0m\n",
            "    \n",
            "\u001b[36m    Commands:\u001b[0m\n",
            "      \u001b[36mcheat-sheet\u001b[0m    \u001b[39mDisplay cheat sheet\u001b[0m\n",
            "      \u001b[36mdag-processor\u001b[0m  \u001b[39mStart a standalone Dag Processor instance\u001b[0m\n",
            "      \u001b[36minfo\u001b[0m           \u001b[39mShow information about current Airflow and environment\u001b[0m\n",
            "      \u001b[36mkerberos\u001b[0m       \u001b[39mStart a kerberos ticket renewer\u001b[0m\n",
            "      \u001b[36mplugins\u001b[0m        \u001b[39mDump information about loaded plugins\u001b[0m\n",
            "      \u001b[36mrotate-fernet-key\u001b[0m\n",
            "                     \u001b[39mRotate encrypted connection credentials and variables\u001b[0m\n",
            "      \u001b[36mscheduler\u001b[0m      \u001b[39mStart a scheduler instance\u001b[0m\n",
            "      \u001b[36mstandalone\u001b[0m     \u001b[39mRun an all-in-one copy of Airflow\u001b[0m\n",
            "      \u001b[36msync-perm\u001b[0m      \u001b[39mUpdate permissions for existing roles and optionally DAGs\u001b[0m\n",
            "      \u001b[36mtriggerer\u001b[0m      \u001b[39mStart a triggerer instance\u001b[0m\n",
            "      \u001b[36mversion\u001b[0m        \u001b[39mShow the version\u001b[0m\n",
            "      \u001b[36mwebserver\u001b[0m      \u001b[39mStart a Airflow webserver instance\u001b[0m\n",
            "\n",
            "\u001b[91mOptions:\u001b[0m\n",
            "  \u001b[36m-h\u001b[0m, \u001b[36m--help\u001b[0m         \u001b[39mshow this help message and exit\u001b[0m\n",
            "\n",
            "airflow command error: argument GROUP_OR_COMMAND: `airflow upgradedb` command, has been removed, please use `airflow db upgrade`, see help above.\n",
            "\u001b[1;33m/usr/local/lib/python3.10/dist-packages/flask_limiter/\u001b[0m\u001b[1;33mextension.py\u001b[0m\u001b[1;33m:\u001b[0m\u001b[1;33m336\u001b[0m\u001b[1;33m UserWarning\u001b[0m\u001b[33m: Using the in-memory storage for tracking rate limits as no storage was explicitly specified. This is not recommended for production use. See: \u001b[0m\u001b[4;33mhttps://flask-limiter.readthedocs.io#configuring-a-storage-backend\u001b[0m\u001b[33m for documentation about configuring the storage backend.\u001b[0m\n",
            "login already exist in the db\n"
          ]
        }
      ]
    },
    {
      "cell_type": "code",
      "source": [
        "# Переном файлов с ДАГами\n",
        "!cp /content/airflow/dags/elt.py ~/airflow/dags/elt.py"
      ],
      "metadata": {
        "id": "4vCUKEP9xtKB"
      },
      "execution_count": 9,
      "outputs": []
    },
    {
      "cell_type": "code",
      "source": [
        "!airflow webserver --port 7777 --daemon"
      ],
      "metadata": {
        "colab": {
          "base_uri": "https://localhost:8080/"
        },
        "id": "HfzBphsFjq45",
        "outputId": "0333134b-dfe3-43f9-ce1e-2d17a38bd97e"
      },
      "execution_count": 6,
      "outputs": [
        {
          "output_type": "stream",
          "name": "stdout",
          "text": [
            "  ____________       _____________\n",
            " ____    |__( )_________  __/__  /________      __\n",
            "____  /| |_  /__  ___/_  /_ __  /_  __ \\_ | /| / /\n",
            "___  ___ |  / _  /   _  __/ _  / / /_/ /_ |/ |/ /\n",
            " _/_/  |_/_/  /_/    /_/    /_/  \\____/____/|__/\n",
            "Traceback (most recent call last):\n",
            "  File \"/usr/local/bin/airflow\", line 8, in <module>\n",
            "    sys.exit(main())\n",
            "  File \"/usr/local/lib/python3.10/dist-packages/airflow/__main__.py\", line 59, in main\n",
            "    args.func(args)\n",
            "  File \"/usr/local/lib/python3.10/dist-packages/airflow/cli/cli_config.py\", line 49, in command\n",
            "    return func(*args, **kwargs)\n",
            "  File \"/usr/local/lib/python3.10/dist-packages/airflow/utils/cli.py\", line 113, in wrapper\n",
            "    return f(*args, **kwargs)\n",
            "  File \"/usr/local/lib/python3.10/dist-packages/airflow/utils/providers_configuration_loader.py\", line 55, in wrapped_function\n",
            "    return func(*args, **kwargs)\n",
            "  File \"/usr/local/lib/python3.10/dist-packages/airflow/cli/commands/webserver_command.py\", line 374, in webserver\n",
            "    check_if_pidfile_process_is_running(pid_file=pid_file, process_name=\"webserver\")\n",
            "  File \"/usr/local/lib/python3.10/dist-packages/airflow/utils/process_utils.py\", line 321, in check_if_pidfile_process_is_running\n",
            "    raise AirflowException(f\"The {process_name} is already running under PID {pid}.\")\n",
            "airflow.exceptions.AirflowException: The webserver is already running under PID 23215.\n"
          ]
        }
      ]
    },
    {
      "cell_type": "code",
      "source": [
        "!airflow scheduler --daemon"
      ],
      "metadata": {
        "colab": {
          "base_uri": "https://localhost:8080/"
        },
        "id": "Dua4MUgJuznf",
        "outputId": "83742ad1-782b-41b8-9349-90b67981946d"
      },
      "execution_count": 7,
      "outputs": [
        {
          "output_type": "stream",
          "name": "stdout",
          "text": [
            "  ____________       _____________\n",
            " ____    |__( )_________  __/__  /________      __\n",
            "____  /| |_  /__  ___/_  /_ __  /_  __ \\_ | /| / /\n",
            "___  ___ |  / _  /   _  __/ _  / / /_/ /_ |/ |/ /\n",
            " _/_/  |_/_/  /_/    /_/    /_/  \\____/____/|__/\n",
            "[\u001b[34m2023-10-15T18:25:45.483+0000\u001b[0m] {\u001b[34mexecutor_loader.py:\u001b[0m117} INFO\u001b[0m - Loaded executor: \u001b[01mSequentialExecutor\u001b[22m\u001b[0m\n"
          ]
        }
      ]
    },
    {
      "cell_type": "code",
      "source": [
        "# !pkill -f ngrok\n",
        "\n",
        "# ngrok.disconnect(public_url=public_url)"
      ],
      "metadata": {
        "id": "GGkRxJ2qhzfz"
      },
      "execution_count": 8,
      "outputs": []
    }
  ]
}